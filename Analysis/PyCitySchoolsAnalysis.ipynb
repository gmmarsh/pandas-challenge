{
 "cells": [
  {
   "cell_type": "markdown",
   "metadata": {},
   "source": [
    "Py City Schools Analysis\n",
    "\n"
   ]
  },
  {
   "cell_type": "code",
   "execution_count": null,
   "metadata": {},
   "outputs": [],
   "source": [
    "# Dependencies and Setup\n",
    "import pandas as pd\n",
    "from pathlib import Path\n",
    "\n",
    "# File to Load\n",
    "school_data_to_load = Path(\"/Users/grahammarsh/Documents/GitHub/pandas-challenge/Resources/schools_complete.csv\")\n",
    "student_data_to_load = Path(\"/Users/grahammarsh/Documents/GitHub/pandas-challenge/Resources/students_complete.csv\")\n",
    "\n",
    "# Read School and Student Data File and store into Pandas DataFrames\n",
    "school_data = pd.read_csv(school_data_to_load)\n",
    "student_data = pd.read_csv(student_data_to_load)\n",
    "\n",
    "# Set the maximum number of columns displayed to None, which means all columns will be displayed\n",
    "pd.set_option('display.max_columns', None)\n",
    "\n",
    "# Combine the data into a single dataset.\n",
    "school_data_complete = pd.merge(student_data, school_data, how=\"left\", on=[\"school_name\", \"school_name\"])\n",
    "school_data_complete.head()\n",
    "\n",
    "# To confirm data types created\n",
    "# print(type(student_data))\n",
    "# print(type(school_data))\n",
    "# print(type(school_data_complete))"
   ]
  },
  {
   "cell_type": "markdown",
   "metadata": {},
   "source": [
    "Distric Summary"
   ]
  },
  {
   "cell_type": "code",
   "execution_count": null,
   "metadata": {},
   "outputs": [],
   "source": [
    "# Calculate the total number of unique schools\n",
    "total_schools = len(school_data_complete[\"school_name\"].unique())\n",
    "print(total_schools)\n",
    "\n",
    "# To confirm data type\n",
    "# print(type(total_schools))"
   ]
  },
  {
   "cell_type": "code",
   "execution_count": null,
   "metadata": {},
   "outputs": [],
   "source": [
    "# Calculate the total number of unique students\n",
    "total_students = len(school_data_complete[\"Student ID\"].unique())\n",
    "print(total_students)\n",
    "\n",
    "# To confirm data type\n",
    "# print(type(total_students))"
   ]
  },
  {
   "cell_type": "code",
   "execution_count": null,
   "metadata": {},
   "outputs": [],
   "source": [
    "# Calculate the total budget for all schools\n",
    "total_budget = school_data[\"budget\"].sum()\n",
    "print(total_budget)\n",
    "\n",
    "# To confirm data type\n",
    "#print(type(total_budget))"
   ]
  },
  {
   "cell_type": "code",
   "execution_count": null,
   "metadata": {},
   "outputs": [],
   "source": [
    "# Calculate the average math score for all schools\n",
    "average_math_score = student_data[\"math_score\"].mean()\n",
    "print(average_math_score)\n",
    "\n",
    "# To confirm data type\n",
    "#print(type(average_math_score))"
   ]
  },
  {
   "cell_type": "code",
   "execution_count": null,
   "metadata": {},
   "outputs": [],
   "source": [
    "# Calculate the average reading score for all schools\n",
    "average_reading_score = student_data[\"reading_score\"].mean()\n",
    "print(average_reading_score)\n",
    "\n",
    "# To confirm data type\n",
    "# print(type(average_reading_score))"
   ]
  },
  {
   "cell_type": "code",
   "execution_count": null,
   "metadata": {},
   "outputs": [],
   "source": [
    "# Calculate the percentage of students with a passing math score (70 or greater) for all schools\n",
    "\n",
    "# First, create a new DataFrame that only contains students who passed math\n",
    "passing_math = student_data.loc[student_data[\"math_score\"] >= 70]\n",
    "\n",
    "# Second, calculate the number of students who passed math\n",
    "passing_math_count = passing_math[\"student_name\"].count()\n",
    "\n",
    "# Third, calculate the percentage of students who passed math\n",
    "passing_math_percentage = passing_math_count / float(total_students) * 100\n",
    "print(passing_math_percentage)\n",
    "\n",
    "# To confirm data type\n",
    "# print(type(passing_math))\n",
    "# print(type(passing_math_count))\n",
    "# print(type(passing_math_percentage))"
   ]
  },
  {
   "cell_type": "code",
   "execution_count": null,
   "metadata": {},
   "outputs": [],
   "source": [
    "# Calculate the percentage of students with a passing reading score (70 or greater) for all schools\n",
    "\n",
    "# First, create a new DataFrame that only contains students who passed reading\n",
    "passing_reading = student_data.loc[student_data[\"reading_score\"] >= 70]\n",
    "\n",
    "# Second, calculate the number of students who passed reading\n",
    "passing_reading_count = passing_reading[\"student_name\"].count()\n",
    "\n",
    "# Third, calculate the percentage of students who passed reading\n",
    "passing_reading_percentage = passing_reading_count / float(total_students) * 100\n",
    "print(passing_reading_percentage)\n",
    "\n",
    "# To confirm data type\n",
    "# print(type(passing_reading))\n",
    "# print(type(passing_reading_count))\n",
    "# print(type(passing_reading_percentage))"
   ]
  },
  {
   "cell_type": "code",
   "execution_count": null,
   "metadata": {},
   "outputs": [],
   "source": [
    "# Calculate the percentage of students who passed math and reading for all schools\n",
    "\n",
    "# First, create a new DataFrame that only contains students who passed both math and reading\n",
    "overall_passing = student_data.loc[(student_data[\"math_score\"] >= 70) & (student_data[\"reading_score\"] >= 70)]\n",
    "\n",
    "# Second, calculate the number of students who passed both math and reading\n",
    "overall_passing_count = overall_passing[\"student_name\"].count()\n",
    "\n",
    "# Third, calculate the percentage of students who passed both math and reading\n",
    "overall_passing_percentage = overall_passing_count / float(total_students) * 100\n",
    "\n",
    "print(overall_passing_percentage)\n",
    "\n",
    "# To confirm data type\n",
    "# print(type(overall_passing))\n",
    "# print(type(overall_passing_count))\n",
    "# print(type(overall_passing_percentage))"
   ]
  },
  {
   "cell_type": "code",
   "execution_count": null,
   "metadata": {},
   "outputs": [],
   "source": [
    "# Create a dataframe to hold the above results using a list of dictionaries\n",
    "district_summary_df = pd.DataFrame(\n",
    "    [{\"Total Schools\": total_schools,\n",
    "      \"Total Students\": total_students,\n",
    "      \"Total Budget\": total_budget,\n",
    "      \"Average Math Score\": average_math_score,\n",
    "      \"Average Reading Score\": average_reading_score,\n",
    "      \"% Passing Math\": passing_math_percentage,\n",
    "      \"% Passing Reading\": passing_reading_percentage,\n",
    "      \"% Overall Passing\": overall_passing_percentage}])\n",
    "\n",
    "# Format the \"Total Students\" to have the comma for a thousands separator\n",
    "district_summary_df[\"Total Students\"] = district_summary_df[\"Total Students\"].map(\"{:,}\".format)\n",
    "\n",
    "# Format the \"Total Budget\" to have the comma for a thousands separator, a decimal separator, and a \"$\"\n",
    "district_summary_df[\"Total Budget\"] = district_summary_df[\"Total Budget\"].map(\"${:,.2f}\".format)\n",
    "\n",
    "# Display the dataframe with the formatting applied\n",
    "district_summary_df\n",
    "\n",
    "# confirm data type\n",
    "#print(type(district_summary_df))\n",
    "\n"
   ]
  },
  {
   "cell_type": "markdown",
   "metadata": {},
   "source": [
    "School Summary"
   ]
  },
  {
   "cell_type": "code",
   "execution_count": null,
   "metadata": {},
   "outputs": [],
   "source": [
    "# Display the school type by school name\n",
    "school_types = school_data.set_index([\"school_name\"])[\"type\"]\n",
    "\n",
    "print(\"School Type per School\")\n",
    "print(\"----------------------\")\n",
    "print(school_types)\n",
    "\n",
    "# To confirm data type\n",
    "print(type(school_types))"
   ]
  },
  {
   "cell_type": "code",
   "execution_count": null,
   "metadata": {},
   "outputs": [],
   "source": [
    "# calculate the total student count per school\n",
    "# calculated by counting \"school_name\" from the school_data_complete dataframe\n",
    "# each school name appears as many times as there are students in that school\n",
    "per_school_counts = school_data_complete[\"school_name\"].value_counts()\n",
    "\n",
    "# check the sum of per_school_counts equals total_students\n",
    "# if per_school_counts.sum() == total_students:\n",
    "#     print(\"The sum of per_school_counts equals total_students\")\n",
    "\n",
    "print(\"Total Student Count per School\")\n",
    "print(\"-------------------------\")\n",
    "print(per_school_counts)\n",
    "\n",
    "# To confirm data type\n",
    "print(type(per_school_counts))"
   ]
  },
  {
   "cell_type": "code",
   "execution_count": null,
   "metadata": {},
   "outputs": [],
   "source": [
    "# calculate the total budget per school\n",
    "# calculated by grouping the school_data_complete dataframe by \"school_name\" and finding the mean of the \"budget\" column\n",
    "per_school_budget = school_data_complete.groupby([\"school_name\"])[\"budget\"].mean()\n",
    "\n",
    "# check the sum of per_school_budget equals total_budget\n",
    "#if per_school_budget.sum() == total_budget:\n",
    "      #print(\"The sum of per_school_budget equals total_budget\")\n",
    "\n",
    "\n",
    "# calculate the per capita spending\n",
    "# calculated by dividing the budget by the total students per school\n",
    "per_school_capita = per_school_budget / per_school_counts\n",
    "\n",
    "print(\"Budget per School\")\n",
    "print(\"-----------------\")\n",
    "print(per_school_budget)\n",
    "print(type(per_school_budget))\n",
    "print(\"-----------------\")\n",
    "print()\n",
    "\n",
    "print(\"Budget per Capita per School\")\n",
    "print(\"-----------------\")\n",
    "print(per_school_capita)\n",
    "print(type(per_school_capita))\n",
    "print(\"-----------------\")\n",
    "\n"
   ]
  },
  {
   "cell_type": "code",
   "execution_count": null,
   "metadata": {},
   "outputs": [],
   "source": [
    "# Calculate the average test scores per school\n",
    "# Calculated by grouping the school_data_complete dataframe by \"school_name\" and finding the mean of the \"math_score\" and \"reading_score\" columns\n",
    "\n",
    "per_school_math = school_data_complete.groupby([\"school_name\"])[\"math_score\"].mean()\n",
    "per_school_reading = school_data_complete.groupby([\"school_name\"])[\"reading_score\"].mean()\n",
    "\n",
    "print(\"Mean Math Score per School\")\n",
    "print(\"-----------------------------\")\n",
    "print(per_school_math)\n",
    "print(type(per_school_math))\n",
    "print()\n",
    "print(\"Mean Reading Score per School\")\n",
    "print(\"--------------------------------\")\n",
    "print(per_school_reading)\n",
    "print(type(per_school_reading))"
   ]
  },
  {
   "cell_type": "code",
   "execution_count": null,
   "metadata": {},
   "outputs": [],
   "source": [
    "# count the number of students per school with math scores greater than or equal to 70\n",
    "# calculated by grouping the school_data_complete dataframe by school name and counting the school names with a \"math_score\" >= 70\n",
    "# each school name appears as many times as there are students in that school with a math score >= 70\n",
    "\n",
    "per_school_passing_math = school_data_complete[school_data_complete[\"math_score\"] >= 70].groupby([\"school_name\"])[\"school_name\"].count()\n",
    "print(\"Number of Students Passing Math per School\")\n",
    "print(\"-----------------------------------------\")\n",
    "print(per_school_passing_math)\n",
    "print(type(per_school_passing_math))\n",
    "\n",
    "# check the sum of per_school_passing_math equals passing_math_count\n",
    "# if per_school_passing_math.sum() == passing_math_count:\n",
    "#     print(\"The sum of per_school_passing_math equals passing_math_count\")\n"
   ]
  },
  {
   "cell_type": "code",
   "execution_count": null,
   "metadata": {},
   "outputs": [],
   "source": [
    "# calculate the number of students per school with reading scores greater than or equal to 70\n",
    "# calculated by grouping the school_data_complete dataframe by school name and counting the school names with a \"reading_score\" >= 70\n",
    "# each school name appears as many times as there are students in that school with a math score >= 70\n",
    "\n",
    "per_school_passing_reading = school_data_complete[school_data_complete[\"reading_score\"] >= 70].groupby([\"school_name\"])[\"school_name\"].count()\n",
    "print(\"Number of Students Passing Reading per School\")\n",
    "print(\"--------------------------------------------\")\n",
    "print(per_school_passing_reading)\n",
    "\n",
    "# check the sum of per_school_passing_reading equals passing_reading_count\n",
    "# if per_school_passing_reading.sum() == passing_reading_count:\n",
    "#     print(\"The sum of per_school_passing_reading equals passing_reading_count\")"
   ]
  },
  {
   "cell_type": "code",
   "execution_count": null,
   "metadata": {},
   "outputs": [],
   "source": [
    "# calculate the number of students per school that passed both math and reading with scores greater than or equal to 70\n",
    "# calculated by grouping the school_data_complete dataframe by \"math_score\" >= 70 and \"reading_score\" >= 70 and counting the school names\n",
    "# Each school name appears as many times as there are students in that school with a math score >= 70 and a reading score >= 70\n",
    "\n",
    "students_passing_math_and_reading = school_data_complete[(school_data_complete[\"reading_score\"] >= 70) & (school_data_complete[\"math_score\"] >= 70)]\n",
    "school_students_passing_math_and_reading = students_passing_math_and_reading.groupby([\"school_name\"]).size()\n",
    "\n",
    "print(\"Number of Students Passing Math and Reading per School\")\n",
    "print(\"-----------------------------------------------------\")\n",
    "print(school_students_passing_math_and_reading)\n",
    "print(type(school_students_passing_math_and_reading))\n",
    "\n",
    "# check the sum of school_students_passing_math_and_reading equals overall_passing_count\n",
    "# if school_students_passing_math_and_reading.sum() == overall_passing_count:\n",
    "#     print(\"The sum of school_students_passing_math_and_reading equals overall_passing_count\")"
   ]
  },
  {
   "cell_type": "code",
   "execution_count": null,
   "metadata": {},
   "outputs": [],
   "source": [
    "# calculate the passing rates per school\n",
    "# calculated by dividing the number of students passing math or reading by the total number of students per school\n",
    "# then multiplying by 100 to get the percentage\n",
    "\n",
    "per_school_passing_math_percentage = per_school_passing_math / per_school_counts * 100\n",
    "per_school_passing_reading_percentage = per_school_passing_reading / per_school_counts * 100\n",
    "per_school_passing_math_and_reading_percentage = school_students_passing_math_and_reading / per_school_counts * 100\n",
    "\n",
    "print(\"Percentage of Students Passing Math per School\")\n",
    "print(\"---------------------------------------------\")\n",
    "print(per_school_passing_math_percentage)\n",
    "print()\n",
    "print(\"Percentage of Students Passing Reading per School\")\n",
    "print(\"------------------------------------------------\")\n",
    "print(per_school_passing_reading_percentage)\n",
    "print()\n",
    "print(\"Percentage of Students Passing Math and Reading per School\")\n",
    "print(\"---------------------------------------------------------\")\n",
    "print(per_school_passing_math_and_reading_percentage)\n"
   ]
  },
  {
   "cell_type": "code",
   "execution_count": null,
   "metadata": {},
   "outputs": [],
   "source": [
    "# Create a DataFrame called `per_school_summary` with columns for the calculations above.\n",
    "\n",
    "per_school_summary_df = pd.DataFrame({\n",
    "    \"School Type\": school_types,\n",
    "    \"Total Students\": per_school_counts,\n",
    "    \"Total School Budget\": per_school_budget,\n",
    "    \"Per Student Budget\": per_school_capita,\n",
    "    \"Average Math Score\": per_school_math,\n",
    "    \"Average Reading Score\": per_school_reading,\n",
    "    \"% Passing Math\": per_school_passing_math_percentage,\n",
    "    \"% Passing Reading\": per_school_passing_reading_percentage,\n",
    "    \"% Overall Passing\": per_school_passing_math_and_reading_percentage})\n",
    "\n",
    "# Formatting\n",
    "per_school_summary_df[\"Total School Budget\"] = per_school_summary_df[\"Total School Budget\"].map(\"${:,.2f}\".format)\n",
    "per_school_summary_df[\"Per Student Budget\"] = per_school_summary_df[\"Per Student Budget\"].map(\"${:,.2f}\".format)\n",
    "\n",
    "# Display the DataFrame\n",
    "per_school_summary_df\n"
   ]
  },
  {
   "cell_type": "markdown",
   "metadata": {},
   "source": [
    "Highest Performing Schools by Percentage of Overall Passing"
   ]
  },
  {
   "cell_type": "code",
   "execution_count": null,
   "metadata": {},
   "outputs": [],
   "source": [
    "# school sorted by % overall passing in descending order\n",
    "top_schools = per_school_summary_df.sort_values([\"% Overall Passing\"], ascending=False)\n",
    "top_schools.head()\n",
    "\n",
    "# note: the top 5 schools are all charter schools"
   ]
  },
  {
   "cell_type": "markdown",
   "metadata": {},
   "source": [
    "Lowest Performing Schools by Percentage of Overall Passing"
   ]
  },
  {
   "cell_type": "code",
   "execution_count": null,
   "metadata": {},
   "outputs": [],
   "source": [
    "# school sorted by % overall passing in ascending order\n",
    "bottom_schools = per_school_summary_df.sort_values([\"% Overall Passing\"], ascending=True)\n",
    "bottom_schools.head()\n",
    "\n",
    "# note: the bottom 5 schools are all district schools\n",
    "# note: per student budget is not a factor in the top 5 or bottom 5 schools \n"
   ]
  },
  {
   "cell_type": "markdown",
   "metadata": {},
   "source": [
    "Reading Scores by Grade"
   ]
  },
  {
   "cell_type": "code",
   "execution_count": null,
   "metadata": {},
   "outputs": [],
   "source": [
    "# create a data frame by grade from the school_data_complete dataframe\n",
    "ninth_graders = school_data_complete[(school_data_complete[\"grade\"] == \"9th\")]\n",
    "tenth_graders = school_data_complete[(school_data_complete[\"grade\"] == \"10th\")]\n",
    "eleventh_graders = school_data_complete[(school_data_complete[\"grade\"] == \"11th\")]\n",
    "twelfth_graders = school_data_complete[(school_data_complete[\"grade\"] == \"12th\")]\n",
    "\n",
    "# confirm data type\n",
    "# print(type(ninth_graders))\n",
    "# print(type(tenth_graders))\n",
    "# print(type(eleventh_graders))\n",
    "# print(type(twelfth_graders))\n",
    "\n",
    "\n",
    "# calculate the average math score for each grade level and for each school\n",
    "ninth_grade_math_scores = ninth_graders.groupby([\"school_name\"])[\"math_score\"].mean()\n",
    "tenth_grader_math_scores = tenth_graders.groupby([\"school_name\"])[\"math_score\"].mean()\n",
    "eleventh_grader_math_scores = eleventh_graders.groupby([\"school_name\"])[\"math_score\"].mean()\n",
    "twelfth_grader_math_scores = twelfth_graders.groupby([\"school_name\"])[\"math_score\"].mean()\n",
    "\n",
    "# confirm data type\n",
    "# print(type(ninth_grade_math_scores))\n",
    "# print(type(tenth_grader_math_scores))\n",
    "# print(type(eleventh_grader_math_scores))\n",
    "# print(type(twelfth_grader_math_scores))\n",
    "\n",
    "# create a single DataFrame called `math_scores_by_grade' representing the average math scores for each grade level and for each school\n",
    "math_scores_by_grade = pd.DataFrame({\n",
    "    \"9th\": ninth_grade_math_scores,\n",
    "    \"10th\": tenth_grader_math_scores,\n",
    "    \"11th\": eleventh_grader_math_scores,\n",
    "    \"12th\": twelfth_grader_math_scores})\n",
    "\n",
    "# confirm data type\n",
    "# print(type(math_scores_by_grade))\n",
    "\n",
    "# Minor data wrangling\n",
    "math_scores_by_grade.index.name = None\n",
    "\n",
    "# Display the DataFrame\n",
    "math_scores_by_grade"
   ]
  },
  {
   "cell_type": "markdown",
   "metadata": {},
   "source": [
    "Reading Scores by Grade"
   ]
  },
  {
   "cell_type": "code",
   "execution_count": null,
   "metadata": {},
   "outputs": [],
   "source": [
    "# create a data frame by grade from the school_data_complete dataframe\n",
    "ninth_graders = school_data_complete[(school_data_complete[\"grade\"] == \"9th\")]\n",
    "tenth_graders = school_data_complete[(school_data_complete[\"grade\"] == \"10th\")]\n",
    "eleventh_graders = school_data_complete[(school_data_complete[\"grade\"] == \"11th\")]\n",
    "twelfth_graders = school_data_complete[(school_data_complete[\"grade\"] == \"12th\")]\n",
    "\n",
    "# confirm data type\n",
    "# print(type(ninth_graders))\n",
    "# print(type(tenth_graders))\n",
    "# print(type(eleventh_graders))\n",
    "# print(type(twelfth_graders))\n",
    "\n",
    "\n",
    "# calculate the average reading score for each grade level and for each school\n",
    "ninth_grader_reading_scores = ninth_graders.groupby([\"school_name\"])[\"reading_score\"].mean()\n",
    "tenth_grader_reading_scores = tenth_graders.groupby([\"school_name\"])[\"reading_score\"].mean()\n",
    "eleventh_grader_reading_scores = eleventh_graders.groupby([\"school_name\"])[\"reading_score\"].mean()\n",
    "twelfth_grader_reading_scores = twelfth_graders.groupby([\"school_name\"])[\"reading_score\"].mean()\n",
    "\n",
    "# confirm data type\n",
    "# print(type(ninth_grade_reading_scores))\n",
    "# print(type(tenth_grader_reading_scores))\n",
    "# print(type(eleventh_grader_reading_scores))\n",
    "# print(type(twelfth_grader_reading_scores))\n",
    "\n",
    "# create a single DataFrame called `reading_scores_by_grade' representing the average math scores for each grade level and for each school\n",
    "reading_scores_by_grade = pd.DataFrame({\n",
    "    \"9th\": ninth_grader_reading_scores,\n",
    "    \"10th\": tenth_grader_reading_scores,\n",
    "    \"11th\": eleventh_grader_reading_scores,\n",
    "    \"12th\": twelfth_grader_reading_scores})\n",
    "\n",
    "# confirm data type\n",
    "# print(type(reading_scores_by_grade))\n",
    "\n",
    "# Minor data wrangling\n",
    "reading_scores_by_grade.index.name = None\n",
    "\n",
    "# Display the DataFrame\n",
    "reading_scores_by_grade"
   ]
  },
  {
   "cell_type": "markdown",
   "metadata": {},
   "source": [
    "Scores by School Spending"
   ]
  },
  {
   "cell_type": "code",
   "execution_count": null,
   "metadata": {},
   "outputs": [],
   "source": []
  }
 ],
 "metadata": {
  "kernelspec": {
   "display_name": "dev",
   "language": "python",
   "name": "python3"
  },
  "language_info": {
   "codemirror_mode": {
    "name": "ipython",
    "version": 3
   },
   "file_extension": ".py",
   "mimetype": "text/x-python",
   "name": "python",
   "nbconvert_exporter": "python",
   "pygments_lexer": "ipython3",
   "version": "3.10.13"
  }
 },
 "nbformat": 4,
 "nbformat_minor": 2
}
